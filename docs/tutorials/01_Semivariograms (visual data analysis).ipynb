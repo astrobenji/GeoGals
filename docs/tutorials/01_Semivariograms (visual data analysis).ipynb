{
 "cells": [
  {
   "cell_type": "markdown",
   "id": "9df8a075-62cb-403b-b79b-7a1d8184d216",
   "metadata": {},
   "source": [
    "# Welcome to my tutorial!\n",
    "\n",
    "Welcome to the first tutorial for the GeoGals (Geostatistics on Galaxies) package! In this lesson, we will demonstrate how GeoGals can be used to create a *semivariogram* -- a data visualisation tool used to look for (and characterise) the two-dimensional spatial structure of galaxies. For a gentle introduction to the semivariogram and how it relates to other methods used in astronomy to quantify spatial correlations in data, see [this Tutorial](https://arxiv.org/abs/2407.14068).\n",
    "\n",
    "First, let's begin by importing some important Python packages (if GeoGals is not installed, you can download and install it by running `pip install geogals`)."
   ]
  },
  {
   "cell_type": "code",
   "execution_count": 8,
   "id": "8687e62b-5e90-4df4-8922-f3d9a6515f17",
   "metadata": {},
   "outputs": [],
   "source": [
    "import geogals as gg\n",
    "import numpy as np\n",
    "import matplotlib.pyplot as plt\n",
    "from astropy.io import fits"
   ]
  },
  {
   "cell_type": "markdown",
   "id": "3171cb22-6a47-494d-93a0-22706b8c9642",
   "metadata": {},
   "source": [
    "Next, we need to load some data. For this example, we will be using a metallicity map derived from data collected by [the PHANGS team](https://sites.google.com/view/phangs/home) for the galaxy NGC 1385, computed using the $O_3N_2$ metallicity diagnostic of [Curti et al. 2017](https://ui.adsabs.harvard.edu/abs/2017MNRAS.465.1384C/abstract). This `.hdf` file contains data on how to translate from pixels to sky coordinates, as well as two pieces of data: the metallicity at each pixel, and the uncertainty in the metallicity of each pixel."
   ]
  },
  {
   "cell_type": "code",
   "execution_count": 9,
   "id": "edfe6093-7777-4c18-9c63-99b061e037f3",
   "metadata": {},
   "outputs": [],
   "source": [
    "# Open Data\n",
    "data_path = '../../data/'\n",
    "Z_data    = fits.open(data_path + 'NGC1385_metals.fits')"
   ]
  },
  {
   "cell_type": "markdown",
   "id": "58a09a71-eb1f-4906-bb93-ef576a14de97",
   "metadata": {},
   "source": [
    "As well as the `.hdf5` file, we need a little bit of extra *metadata* about our galaxy in question. This is structured as a `dict`, and must contain entries for three fields:\n",
    "\n",
    " * `PA`, the position angle of the galaxy (in degrees);\n",
    " * `i`, the inclunation of the galaxy (in degrees);\n",
    " * and `D`, the distance to the galaxy (in units of Mpc).\n",
    "\n",
    "To remember this, just rememeber that before you analyse real galaxy data, you need to get `PAiD`! You can get these parameters for any specific galaxy from [HyperLEDA](http://atlas.obs-hp.fr/hyperleda/). These parameters are necessary for converting angular separations on the sky to physical spatial separations, using deprojection to mitigate the effects of inclination."
   ]
  },
  {
   "cell_type": "code",
   "execution_count": 10,
   "id": "d0e173b8-7b31-4d0d-9b85-9c75196bd58d",
   "metadata": {},
   "outputs": [],
   "source": [
    "# Input metadata\n",
    "metadata = {\n",
    "    'PA': 181.3,\n",
    "    'i': 44.0,\n",
    "    'D': 22.7\n",
    "}"
   ]
  },
  {
   "cell_type": "markdown",
   "id": "9ae3748c-df1c-41d2-99d2-65dd250be5c8",
   "metadata": {},
   "source": [
    "Now we have everything we need to generate and plot our semivariogram for this data. This can be done very quickly even with large datasets (the example we are trying has over 80,000 data points!) thanks to an algorithm that involves the fast Fourier transform, described in [Marcotte96](https://ui.adsabs.harvard.edu/abs/1996CG.....22.1175M/abstract)."
   ]
  },
  {
   "cell_type": "code",
   "execution_count": 11,
   "id": "84d9b462-a200-4bab-b6e4-6ec961db4a43",
   "metadata": {},
   "outputs": [
    {
     "ename": "NameError",
     "evalue": "name 'gg' is not defined",
     "output_type": "error",
     "traceback": [
      "\u001b[0;31m---------------------------------------------------------------------------\u001b[0m",
      "\u001b[0;31mNameError\u001b[0m                                 Traceback (most recent call last)",
      "Cell \u001b[0;32mIn[11], line 2\u001b[0m\n\u001b[1;32m      1\u001b[0m \u001b[38;5;66;03m# Generate a semivariogram (with 50 pc bins, keeping all data for now)\u001b[39;00m\n\u001b[0;32m----> 2\u001b[0m semivariogram, separations \u001b[38;5;241m=\u001b[39m gg\u001b[38;5;241m.\u001b[39mfast_semivariogram(Z_data[\u001b[38;5;241m0\u001b[39m]\u001b[38;5;241m.\u001b[39mdata, Z_data[\u001b[38;5;241m0\u001b[39m]\u001b[38;5;241m.\u001b[39mheader, meta\u001b[38;5;241m=\u001b[39mmetadata, bin_size\u001b[38;5;241m=\u001b[39m\u001b[38;5;241m50\u001b[39m)\n",
      "\u001b[0;31mNameError\u001b[0m: name 'gg' is not defined"
     ]
    }
   ],
   "source": [
    "# Generate a semivariogram (with 50 pc bins, keeping all data for now)\n",
    "semivariogram, separations = gg.fast_semivariogram(Z_data[0].data, Z_data[0].header, meta=metadata, bin_size=50)"
   ]
  },
  {
   "cell_type": "code",
   "execution_count": 3,
   "id": "52e682dd-3859-4c91-b65c-73bbd1ee9f0a",
   "metadata": {},
   "outputs": [],
   "source": [
    "# Save it"
   ]
  },
  {
   "cell_type": "code",
   "execution_count": 4,
   "id": "fe1a4906-d18b-48ac-84a8-cf0862e50c63",
   "metadata": {},
   "outputs": [],
   "source": [
    "# Plot it"
   ]
  },
  {
   "cell_type": "code",
   "execution_count": null,
   "id": "b30b5035-bde9-4df8-b17b-9b757609da31",
   "metadata": {},
   "outputs": [],
   "source": []
  }
 ],
 "metadata": {
  "kernelspec": {
   "display_name": "Python 3 (ipykernel)",
   "language": "python",
   "name": "python3"
  },
  "language_info": {
   "codemirror_mode": {
    "name": "ipython",
    "version": 3
   },
   "file_extension": ".py",
   "mimetype": "text/x-python",
   "name": "python",
   "nbconvert_exporter": "python",
   "pygments_lexer": "ipython3",
   "version": "3.12.7"
  }
 },
 "nbformat": 4,
 "nbformat_minor": 5
}
