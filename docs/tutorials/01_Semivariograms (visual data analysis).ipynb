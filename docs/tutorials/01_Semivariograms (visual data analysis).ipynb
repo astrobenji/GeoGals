{
 "cells": [
  {
   "cell_type": "markdown",
   "id": "9df8a075-62cb-403b-b79b-7a1d8184d216",
   "metadata": {},
   "source": [
    "# Chapter 1: Exploratory Data Analysis\n",
    "\n",
    "Welcome to the first tutorial for the GeoGals (Geostatistics on Galaxies) package! In this lesson, we will demonstrate how GeoGals can be used to create a *semivariogram* -- a data visualisation tool used to look for (and characterise) the two-dimensional spatial structure of galaxies. For a gentle introduction to the semivariogram and how it relates to other methods used in astronomy to quantify spatial correlations in data, see [this Tutorial](https://arxiv.org/abs/2407.14068).\n",
    "\n",
    "First, let's begin by importing some important Python packages (if GeoGals is not installed, you can download and install it by running `pip install geogals`)."
   ]
  },
  {
   "cell_type": "code",
   "execution_count": 1,
   "id": "8687e62b-5e90-4df4-8922-f3d9a6515f17",
   "metadata": {},
   "outputs": [],
   "source": [
    "import geogals as gg\n",
    "import matplotlib.pyplot as plt\n",
    "from astropy.io import fits"
   ]
  },
  {
   "cell_type": "markdown",
   "id": "3171cb22-6a47-494d-93a0-22706b8c9642",
   "metadata": {},
   "source": [
    "Next, we need to load some data. For this example, we will be using a metallicity map derived from data collected by [the PHANGS team](https://sites.google.com/view/phangs/home) for the galaxy NGC 1385, computed using the $O_3N_2$ metallicity diagnostic of [Curti et al. 2017](https://ui.adsabs.harvard.edu/abs/2017MNRAS.465.1384C/abstract). This `.hdf` file contains data on how to translate from pixels to sky coordinates, as well as two pieces of data: the metallicity at each pixel, and the uncertainty in the metallicity of each pixel."
   ]
  },
  {
   "cell_type": "code",
   "execution_count": 2,
   "id": "edfe6093-7777-4c18-9c63-99b061e037f3",
   "metadata": {},
   "outputs": [],
   "source": [
    "# Open Data\n",
    "data_path = '../../data/'\n",
    "Z_data    = fits.open(data_path + 'NGC1385_metals.fits')"
   ]
  },
  {
   "cell_type": "markdown",
   "id": "58a09a71-eb1f-4906-bb93-ef576a14de97",
   "metadata": {},
   "source": [
    "As well as the `.hdf5` file, we need a little bit of extra *metadata* about our galaxy in question. This is structured as a `dict`, and must contain entries for five fields:\n",
    "\n",
    " * `RA` and `DEC` -- the location of the centre of the galaxy;\n",
    " * `PA`, the position angle of the galaxy (in degrees);\n",
    " * `i`, the inclunation of the galaxy (in degrees);\n",
    " * and `D`, the distance to the galaxy (in units of Mpc).\n",
    "\n",
    "To remember this, just rememeber that before you analyse real galaxy data, you need to know where the galaxy is, and you need to get `PAiD`! You can get these parameters for any specific galaxy from [HyperLEDA](http://atlas.obs-hp.fr/hyperleda/). These parameters are necessary for converting angular separations on the sky to physical spatial separations, using deprojection to mitigate the effects of inclination."
   ]
  },
  {
   "cell_type": "code",
   "execution_count": 3,
   "id": "d0e173b8-7b31-4d0d-9b85-9c75196bd58d",
   "metadata": {},
   "outputs": [],
   "source": [
    "# Input metadata\n",
    "metadata = {\n",
    "    'RA':54.3680,\n",
    "    'DEC':-24.5012,\n",
    "    'PA': 181.3,\n",
    "    'i': 44.0,\n",
    "    'D': 22.7\n",
    "}"
   ]
  },
  {
   "cell_type": "markdown",
   "id": "9ae3748c-df1c-41d2-99d2-65dd250be5c8",
   "metadata": {},
   "source": [
    "Now we have everything we need to generate and plot our semivariogram for this data. This can be done very quickly even with large datasets (the example we are trying has over 80,000 data points!) thanks to an algorithm that involves the fast Fourier transform, described in [Marcotte96](https://ui.adsabs.harvard.edu/abs/1996CG.....22.1175M/abstract)."
   ]
  },
  {
   "cell_type": "code",
   "execution_count": null,
   "id": "14d65cd1-9603-4734-8f68-c2e167bd7fa5",
   "metadata": {},
   "outputs": [],
   "source": [
    "# Subtract off radial trend\n",
    "resid_Z_grid = gg.generate_residual_Z_grid((Z_data[0].data, Z_data[1].data, Z_data[0].header, metadata)"
   ]
  },
  {
   "cell_type": "code",
   "execution_count": 4,
   "id": "84d9b462-a200-4bab-b6e4-6ec961db4a43",
   "metadata": {},
   "outputs": [
    {
     "ename": "AttributeError",
     "evalue": "The number of `values` elements must match the length of each `sample` dimension.",
     "output_type": "error",
     "traceback": [
      "\u001b[0;31m---------------------------------------------------------------------------\u001b[0m",
      "\u001b[0;31mAttributeError\u001b[0m                            Traceback (most recent call last)",
      "Cell \u001b[0;32mIn[4], line 2\u001b[0m\n\u001b[1;32m      1\u001b[0m \u001b[38;5;66;03m# Generate a semivariogram (with 50 pc bins, keeping all data for now)\u001b[39;00m\n\u001b[0;32m----> 2\u001b[0m semivariogram, separations \u001b[38;5;241m=\u001b[39m gg\u001b[38;5;241m.\u001b[39mfast_semivariogram(Z_data[\u001b[38;5;241m0\u001b[39m]\u001b[38;5;241m.\u001b[39mdata, Z_data[\u001b[38;5;241m0\u001b[39m]\u001b[38;5;241m.\u001b[39mheader, meta\u001b[38;5;241m=\u001b[39mmetadata, bin_size\u001b[38;5;241m=\u001b[39m\u001b[38;5;241m50\u001b[39m)\n",
      "File \u001b[0;32m~/opt/anaconda3/lib/python3.12/site-packages/geogals/geogals.py:327\u001b[0m, in \u001b[0;36mfast_semivariogram\u001b[0;34m(Z_grid, header, meta, bin_size, f_to_keep)\u001b[0m\n\u001b[1;32m    324\u001b[0m d_lim \u001b[38;5;241m=\u001b[39m np\u001b[38;5;241m.\u001b[39mmax(r) \u001b[38;5;241m*\u001b[39m f_to_keep\n\u001b[1;32m    326\u001b[0m \u001b[38;5;66;03m# bin by r:\u001b[39;00m\n\u001b[0;32m--> 327\u001b[0m svg \u001b[38;5;241m=\u001b[39m scipy\u001b[38;5;241m.\u001b[39mstats\u001b[38;5;241m.\u001b[39mbinned_statistic(r\u001b[38;5;241m.\u001b[39mflatten(), gamma\u001b[38;5;241m.\u001b[39mflatten(), statistic \u001b[38;5;241m=\u001b[39mnp\u001b[38;5;241m.\u001b[39mnanmean, bins\u001b[38;5;241m=\u001b[39m\u001b[38;5;28mint\u001b[39m(d_lim\u001b[38;5;241m/\u001b[39mbin_size), \u001b[38;5;28mrange\u001b[39m\u001b[38;5;241m=\u001b[39m(\u001b[38;5;241m0\u001b[39m, d_lim))\n\u001b[1;32m    329\u001b[0m \u001b[38;5;66;03m# find bin centres:\u001b[39;00m\n\u001b[1;32m    330\u001b[0m bc \u001b[38;5;241m=\u001b[39m svg\u001b[38;5;241m.\u001b[39mbin_edges\n",
      "File \u001b[0;32m~/opt/anaconda3/lib/python3.12/site-packages/scipy/stats/_binned_statistic.py:184\u001b[0m, in \u001b[0;36mbinned_statistic\u001b[0;34m(x, values, statistic, bins, range)\u001b[0m\n\u001b[1;32m    181\u001b[0m     \u001b[38;5;28;01mif\u001b[39;00m \u001b[38;5;28mlen\u001b[39m(\u001b[38;5;28mrange\u001b[39m) \u001b[38;5;241m==\u001b[39m \u001b[38;5;241m2\u001b[39m:\n\u001b[1;32m    182\u001b[0m         \u001b[38;5;28mrange\u001b[39m \u001b[38;5;241m=\u001b[39m [\u001b[38;5;28mrange\u001b[39m]\n\u001b[0;32m--> 184\u001b[0m medians, edges, binnumbers \u001b[38;5;241m=\u001b[39m binned_statistic_dd(\n\u001b[1;32m    185\u001b[0m     [x], values, statistic, bins, \u001b[38;5;28mrange\u001b[39m)\n\u001b[1;32m    187\u001b[0m \u001b[38;5;28;01mreturn\u001b[39;00m BinnedStatisticResult(medians, edges[\u001b[38;5;241m0\u001b[39m], binnumbers)\n",
      "File \u001b[0;32m~/opt/anaconda3/lib/python3.12/site-packages/scipy/stats/_binned_statistic.py:571\u001b[0m, in \u001b[0;36mbinned_statistic_dd\u001b[0;34m(sample, values, statistic, bins, range, expand_binnumbers, binned_statistic_result)\u001b[0m\n\u001b[1;32m    569\u001b[0m \u001b[38;5;66;03m# Make sure `values` match `sample`\u001b[39;00m\n\u001b[1;32m    570\u001b[0m \u001b[38;5;28;01mif\u001b[39;00m statistic \u001b[38;5;241m!=\u001b[39m \u001b[38;5;124m'\u001b[39m\u001b[38;5;124mcount\u001b[39m\u001b[38;5;124m'\u001b[39m \u001b[38;5;129;01mand\u001b[39;00m Vlen \u001b[38;5;241m!=\u001b[39m Dlen:\n\u001b[0;32m--> 571\u001b[0m     \u001b[38;5;28;01mraise\u001b[39;00m \u001b[38;5;167;01mAttributeError\u001b[39;00m(\u001b[38;5;124m'\u001b[39m\u001b[38;5;124mThe number of `values` elements must match the \u001b[39m\u001b[38;5;124m'\u001b[39m\n\u001b[1;32m    572\u001b[0m                          \u001b[38;5;124m'\u001b[39m\u001b[38;5;124mlength of each `sample` dimension.\u001b[39m\u001b[38;5;124m'\u001b[39m)\n\u001b[1;32m    574\u001b[0m \u001b[38;5;28;01mtry\u001b[39;00m:\n\u001b[1;32m    575\u001b[0m     M \u001b[38;5;241m=\u001b[39m \u001b[38;5;28mlen\u001b[39m(bins)\n",
      "\u001b[0;31mAttributeError\u001b[0m: The number of `values` elements must match the length of each `sample` dimension."
     ]
    }
   ],
   "source": [
    "# Generate a semivariogram (with 50 pc bins, keeping all data for now)\n",
    "semivariogram, separations = gg.fast_semivariogram(resid_Z_grid, Z_data[0].header, meta=metadata, bin_size=50)"
   ]
  },
  {
   "cell_type": "code",
   "execution_count": 5,
   "id": "52e682dd-3859-4c91-b65c-73bbd1ee9f0a",
   "metadata": {},
   "outputs": [
    {
     "data": {
      "text/plain": [
       "'0.1.4'"
      ]
     },
     "execution_count": 5,
     "metadata": {},
     "output_type": "execute_result"
    }
   ],
   "source": [
    "# Save it\n",
    "gg.__version__"
   ]
  },
  {
   "cell_type": "code",
   "execution_count": 4,
   "id": "fe1a4906-d18b-48ac-84a8-cf0862e50c63",
   "metadata": {},
   "outputs": [],
   "source": [
    "# Plot it"
   ]
  },
  {
   "cell_type": "markdown",
   "id": "140e7e2a-4939-44b8-944d-786268944fe3",
   "metadata": {},
   "source": [
    "Looking at this plot, we can gather a wealth of information. Firstly, we see that the variance between data points increases as a function of their separation. This makes sense, because regions of the data that are closer to each other ought to be more correlated than pairs of data points that are farther apart. By examining the height of this graph at the smallest separation bin, we can estimate how much of the variance in our data comes from random effects with no spatial correlation, such as shot noise. This semivariogram flattens out at a distance of XXX - this is the size of the largest fluctuations in our field. Beyond this threshold, measurements become unreliable, as there are fewer pairs of data points at greater separations.\n",
    "\n",
    "In short, a semivariogram reveals that much of the variance that we see in this data comes from spatially correlated sources. In the next Tutorial, we show how we can fit a model to our data that takes into account these spatially correlated fluctuations."
   ]
  }
 ],
 "metadata": {
  "kernelspec": {
   "display_name": "Python 3 (ipykernel)",
   "language": "python",
   "name": "python3"
  },
  "language_info": {
   "codemirror_mode": {
    "name": "ipython",
    "version": 3
   },
   "file_extension": ".py",
   "mimetype": "text/x-python",
   "name": "python",
   "nbconvert_exporter": "python",
   "pygments_lexer": "ipython3",
   "version": "3.12.7"
  }
 },
 "nbformat": 4,
 "nbformat_minor": 5
}
