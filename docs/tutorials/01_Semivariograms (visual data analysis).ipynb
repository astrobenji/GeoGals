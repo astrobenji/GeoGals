{
 "cells": [
  {
   "cell_type": "markdown",
   "id": "9df8a075-62cb-403b-b79b-7a1d8184d216",
   "metadata": {},
   "source": [
    "# Welcome to my tutorial!\n",
    "\n",
    "Welcome to the first tutorial for the GeoGals (Geostatistics on Galaxies) package! In this lesson, we will demonstrate how GeoGals can be used to create a *semivariogram* -- a data visualisation tool used to look for (and characterise) the two-dimensional spatial structure of galaxies. For a gentle introduction to the semivariogram and how it relates to other methods used in astronomy to quantify spatial correlations in data, see [this Tutorial](https://arxiv.org/abs/2407.14068).\n",
    "\n",
    "First, let's begin by importing some important Python packages (if GeoGals is not installed, you can download and install it by running `pip install geogals`)."
   ]
  },
  {
   "cell_type": "code",
   "execution_count": 6,
   "id": "8687e62b-5e90-4df4-8922-f3d9a6515f17",
   "metadata": {},
   "outputs": [
    {
     "ename": "ModuleNotFoundError",
     "evalue": "No module named 'geogals'",
     "output_type": "error",
     "traceback": [
      "\u001b[0;31m---------------------------------------------------------------------------\u001b[0m",
      "\u001b[0;31mModuleNotFoundError\u001b[0m                       Traceback (most recent call last)",
      "Cell \u001b[0;32mIn[6], line 1\u001b[0m\n\u001b[0;32m----> 1\u001b[0m \u001b[38;5;28;01mimport\u001b[39;00m \u001b[38;5;21;01mgeogals\u001b[39;00m \u001b[38;5;28;01mas\u001b[39;00m \u001b[38;5;21;01mgg\u001b[39;00m\n\u001b[1;32m      2\u001b[0m \u001b[38;5;28;01mimport\u001b[39;00m \u001b[38;5;21;01mnumpy\u001b[39;00m \u001b[38;5;28;01mas\u001b[39;00m \u001b[38;5;21;01mnp\u001b[39;00m\n\u001b[1;32m      3\u001b[0m \u001b[38;5;28;01mimport\u001b[39;00m \u001b[38;5;21;01mmatplotlib\u001b[39;00m\u001b[38;5;21;01m.\u001b[39;00m\u001b[38;5;21;01mpyplot\u001b[39;00m \u001b[38;5;28;01mas\u001b[39;00m \u001b[38;5;21;01mplt\u001b[39;00m\n",
      "\u001b[0;31mModuleNotFoundError\u001b[0m: No module named 'geogals'"
     ]
    }
   ],
   "source": [
    "import geogals as gg\n",
    "import numpy as np\n",
    "import matplotlib.pyplot as plt\n",
    "from astropy.io import fits"
   ]
  },
  {
   "cell_type": "markdown",
   "id": "3171cb22-6a47-494d-93a0-22706b8c9642",
   "metadata": {},
   "source": [
    "Next, we need to load some data. For this example, we will be using a metallicity map derived from data collected by [the PHANGS team](https://sites.google.com/view/phangs/home) for the galaxy NGC 1385, computed using the $O_3N_2$ metallicity diagnostic of [Curti et al. 2017](https://ui.adsabs.harvard.edu/abs/2017MNRAS.465.1384C/abstract). This `.hdf` file contains data on how to translate from pixels to sky coordinates, as well as two pieces of data: the metallicity at each pixel, and the uncertainty in the metallicity of each pixel."
   ]
  },
  {
   "cell_type": "code",
   "execution_count": 1,
   "id": "edfe6093-7777-4c18-9c63-99b061e037f3",
   "metadata": {},
   "outputs": [],
   "source": [
    "# Open Data"
   ]
  },
  {
   "cell_type": "markdown",
   "id": "58a09a71-eb1f-4906-bb93-ef576a14de97",
   "metadata": {},
   "source": [
    "As well as the `.hdf5` file, we need a little bit of extra *metadata* about our galaxy in question. This is structured as a `dict`, and must contain entries for three fields:\n",
    "\n",
    " * `PA`, the position angle of the galaxy (in degrees);\n",
    " * `i`, the inclunation of the galaxy (in degrees);\n",
    " * and `D`, the distance to the galaxy (in units of Mpc).\n",
    "\n",
    "To remember this, just rememeber that before you analyse real galaxy data, you need to get `PAiD`! You can get these parameters for any specific galaxy from [HyperLEDA](http://atlas.obs-hp.fr/hyperleda/)."
   ]
  },
  {
   "cell_type": "code",
   "execution_count": null,
   "id": "d0e173b8-7b31-4d0d-9b85-9c75196bd58d",
   "metadata": {},
   "outputs": [],
   "source": [
    "# Input metadata\n",
    "metadata = {\n",
    "    'PA': 181.3,\n",
    "    'i': 44.0,\n",
    "    'D': 22.7\n",
    "}"
   ]
  },
  {
   "cell_type": "code",
   "execution_count": 2,
   "id": "84d9b462-a200-4bab-b6e4-6ec961db4a43",
   "metadata": {},
   "outputs": [],
   "source": [
    "# Generate a semivariogram"
   ]
  },
  {
   "cell_type": "code",
   "execution_count": 3,
   "id": "52e682dd-3859-4c91-b65c-73bbd1ee9f0a",
   "metadata": {},
   "outputs": [],
   "source": [
    "# Save it"
   ]
  },
  {
   "cell_type": "code",
   "execution_count": 4,
   "id": "fe1a4906-d18b-48ac-84a8-cf0862e50c63",
   "metadata": {},
   "outputs": [],
   "source": [
    "# Plot it"
   ]
  },
  {
   "cell_type": "code",
   "execution_count": null,
   "id": "b30b5035-bde9-4df8-b17b-9b757609da31",
   "metadata": {},
   "outputs": [],
   "source": []
  }
 ],
 "metadata": {
  "kernelspec": {
   "display_name": "Python 3 (ipykernel)",
   "language": "python",
   "name": "python3"
  },
  "language_info": {
   "codemirror_mode": {
    "name": "ipython",
    "version": 3
   },
   "file_extension": ".py",
   "mimetype": "text/x-python",
   "name": "python",
   "nbconvert_exporter": "python",
   "pygments_lexer": "ipython3",
   "version": "3.12.7"
  }
 },
 "nbformat": 4,
 "nbformat_minor": 5
}
