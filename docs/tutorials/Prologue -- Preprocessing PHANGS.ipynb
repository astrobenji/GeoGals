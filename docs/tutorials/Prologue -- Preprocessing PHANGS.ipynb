{
 "cells": [
  {
   "cell_type": "markdown",
   "id": "96e7010f-849e-472b-90f5-48b050b7e271",
   "metadata": {},
   "source": [
    "# Prologue -- Preprocessing PHANGS\n",
    "\n",
    "In this Notebook, we show how the example data file, `NGC1385_metals.fits`, is generated from real galaxy data. Specifically, this data file was produced from the emission line maps of NGC 1385 taken from the PHANGS-MUSE survey, first released in \n",
    "\n",
    "First, we must download the raw dataset. This can be done from the PHANGS website."
   ]
  },
  {
   "cell_type": "code",
   "execution_count": null,
   "id": "42f556f5-a795-4190-9d2f-c21c6e8377c9",
   "metadata": {},
   "outputs": [],
   "source": []
  },
  {
   "cell_type": "code",
   "execution_count": null,
   "id": "8fbfb812-1d7c-4cd1-911b-8f52b256f68f",
   "metadata": {},
   "outputs": [],
   "source": []
  }
 ],
 "metadata": {
  "kernelspec": {
   "display_name": "Python 3 (ipykernel)",
   "language": "python",
   "name": "python3"
  },
  "language_info": {
   "codemirror_mode": {
    "name": "ipython",
    "version": 3
   },
   "file_extension": ".py",
   "mimetype": "text/x-python",
   "name": "python",
   "nbconvert_exporter": "python",
   "pygments_lexer": "ipython3",
   "version": "3.12.7"
  }
 },
 "nbformat": 4,
 "nbformat_minor": 5
}
