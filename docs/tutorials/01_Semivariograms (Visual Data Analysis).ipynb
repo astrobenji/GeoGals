{
 "cells": [
  {
   "cell_type": "markdown",
   "id": "9df8a075-62cb-403b-b79b-7a1d8184d216",
   "metadata": {},
   "source": [
    "# Chapter 1: Exploratory Data Analysis\n",
    "\n",
    "Welcome to the first tutorial for the GeoGals (Geostatistics on Galaxies) package! In this lesson, we will demonstrate how GeoGals can be used to create a *semivariogram* -- a data visualisation tool used to look for (and characterise) the two-dimensional spatial structure of galaxies. For a gentle introduction to the semivariogram and how it relates to other methods used in astronomy to quantify spatial correlations in data, see [this Tutorial](https://arxiv.org/abs/2407.14068).\n",
    "\n",
    "First, let's begin by importing some important Python packages (if GeoGals is not installed, you can download and install it by running `pip install geogals`)."
   ]
  },
  {
   "cell_type": "code",
   "execution_count": 1,
   "id": "8687e62b-5e90-4df4-8922-f3d9a6515f17",
   "metadata": {},
   "outputs": [],
   "source": [
    "import geogals as gg\n",
    "import matplotlib.pyplot as plt\n",
    "from astropy.io import fits"
   ]
  },
  {
   "cell_type": "markdown",
   "id": "3171cb22-6a47-494d-93a0-22706b8c9642",
   "metadata": {},
   "source": [
    "Next, we need to load some data. For this example, we will be using a metallicity map derived from data collected by [the PHANGS team](https://sites.google.com/view/phangs/home) for the galaxy NGC 1385, computed using the $O_3N_2$ metallicity diagnostic of [Curti et al. 2017](https://ui.adsabs.harvard.edu/abs/2017MNRAS.465.1384C/abstract). This `.hdf` file contains data on how to translate from pixels to sky coordinates, as well as two pieces of data: the metallicity at each pixel, and the uncertainty in the metallicity of each pixel."
   ]
  },
  {
   "cell_type": "code",
   "execution_count": 2,
   "id": "edfe6093-7777-4c18-9c63-99b061e037f3",
   "metadata": {},
   "outputs": [],
   "source": [
    "# Open Data\n",
    "data_path = '../../data/'\n",
    "Z_data    = fits.open(data_path + 'NGC1385_metals.fits')"
   ]
  },
  {
   "cell_type": "markdown",
   "id": "58a09a71-eb1f-4906-bb93-ef576a14de97",
   "metadata": {},
   "source": [
    "As well as the `.hdf5` file, we need a little bit of extra *metadata* about our galaxy in question. This is structured as a `dict`, and must contain entries for five fields:\n",
    "\n",
    " * `RA` and `DEC` -- the location of the centre of the galaxy;\n",
    " * `PA`, the position angle of the galaxy (in degrees);\n",
    " * `i`, the inclunation of the galaxy (in degrees);\n",
    " * and `D`, the distance to the galaxy (in units of Mpc).\n",
    "\n",
    "To remember this, just rememeber that before you analyse real galaxy data, you need to know where the galaxy is, and you need to get `PAiD`! You can get these parameters for any specific galaxy from [HyperLEDA](http://atlas.obs-hp.fr/hyperleda/). These parameters are necessary for converting angular separations on the sky to physical spatial separations, using deprojection to mitigate the effects of inclination."
   ]
  },
  {
   "cell_type": "code",
   "execution_count": 3,
   "id": "d0e173b8-7b31-4d0d-9b85-9c75196bd58d",
   "metadata": {},
   "outputs": [],
   "source": [
    "# Input metadata\n",
    "metadata = {\n",
    "    'RA':54.3680,\n",
    "    'DEC':-24.5012,\n",
    "    'PA': 181.3,\n",
    "    'i': 44.0,\n",
    "    'D': 22.7\n",
    "}"
   ]
  },
  {
   "cell_type": "markdown",
   "id": "9ae3748c-df1c-41d2-99d2-65dd250be5c8",
   "metadata": {},
   "source": [
    "Now we have everything we need to generate and plot our semivariogram for this data. This can be done very quickly even with large datasets (the example we are trying has over 80,000 data points!) thanks to an algorithm that involves the fast Fourier transform, described in [Marcotte96](https://ui.adsabs.harvard.edu/abs/1996CG.....22.1175M/abstract)."
   ]
  },
  {
   "cell_type": "code",
   "execution_count": 4,
   "id": "14d65cd1-9603-4734-8f68-c2e167bd7fa5",
   "metadata": {},
   "outputs": [
    {
     "ename": "ValueError",
     "evalue": "Found array with dim 3. check_pairwise_arrays expected <= 2.",
     "output_type": "error",
     "traceback": [
      "\u001b[0;31m---------------------------------------------------------------------------\u001b[0m",
      "\u001b[0;31mValueError\u001b[0m                                Traceback (most recent call last)",
      "Cell \u001b[0;32mIn[4], line 2\u001b[0m\n\u001b[1;32m      1\u001b[0m \u001b[38;5;66;03m# Subtract off radial trend\u001b[39;00m\n\u001b[0;32m----> 2\u001b[0m resid_Z_grid \u001b[38;5;241m=\u001b[39m gg\u001b[38;5;241m.\u001b[39mgenerate_residual_Z_grid(Z_data[\u001b[38;5;241m0\u001b[39m]\u001b[38;5;241m.\u001b[39mdata, Z_data[\u001b[38;5;241m1\u001b[39m]\u001b[38;5;241m.\u001b[39mdata, Z_data[\u001b[38;5;241m0\u001b[39m]\u001b[38;5;241m.\u001b[39mheader, metadata)\n",
      "File \u001b[0;32m~/opt/anaconda3/lib/python3.12/site-packages/geogals/geogals.py:424\u001b[0m, in \u001b[0;36mgenerate_residual_Z_grid\u001b[0;34m(Z_grid, e_Z_grid, header, meta)\u001b[0m\n\u001b[1;32m    420\u001b[0m \u001b[38;5;250m\u001b[39m\u001b[38;5;124;03m'''\u001b[39;00m\n\u001b[1;32m    421\u001b[0m \u001b[38;5;124;03mFind and subtract a radial trend in Z_grid,\u001b[39;00m\n\u001b[1;32m    422\u001b[0m \u001b[38;5;124;03m'''\u001b[39;00m\n\u001b[1;32m    423\u001b[0m RA_grid, DEC_grid \u001b[38;5;241m=\u001b[39m make_RA_DEC_grid(header)\n\u001b[0;32m--> 424\u001b[0m r_grid \u001b[38;5;241m=\u001b[39m RA_DEC_to_radius(RA_grid, DEC_grid, meta)\n\u001b[1;32m    425\u001b[0m r_list \u001b[38;5;241m=\u001b[39m r_grid\u001b[38;5;241m.\u001b[39mflatten()\n\u001b[1;32m    426\u001b[0m covariates \u001b[38;5;241m=\u001b[39m np\u001b[38;5;241m.\u001b[39marray([np\u001b[38;5;241m.\u001b[39mones(\u001b[38;5;28mlen\u001b[39m(r_list)), r_list])\u001b[38;5;241m.\u001b[39mT\n",
      "File \u001b[0;32m~/opt/anaconda3/lib/python3.12/site-packages/geogals/geogals.py:115\u001b[0m, in \u001b[0;36mRA_DEC_to_radius\u001b[0;34m(RA, DEC, meta)\u001b[0m\n\u001b[1;32m    114\u001b[0m \u001b[38;5;28;01mdef\u001b[39;00m\u001b[38;5;250m \u001b[39m\u001b[38;5;21mRA_DEC_to_radius\u001b[39m(RA, DEC, meta):\n\u001b[0;32m--> 115\u001b[0m     \u001b[38;5;28;01mreturn\u001b[39;00m deprojected_distances(RA, DEC, meta[\u001b[38;5;124m'\u001b[39m\u001b[38;5;124mRA\u001b[39m\u001b[38;5;124m'\u001b[39m], meta[\u001b[38;5;124m'\u001b[39m\u001b[38;5;124mDEC\u001b[39m\u001b[38;5;124m'\u001b[39m], meta)\u001b[38;5;241m.\u001b[39mT[\u001b[38;5;241m0\u001b[39m]\n",
      "File \u001b[0;32m~/opt/anaconda3/lib/python3.12/site-packages/geogals/geogals.py:210\u001b[0m, in \u001b[0;36mdeprojected_distances\u001b[0;34m(RA1, DEC1, RA2, DEC2, meta)\u001b[0m\n\u001b[1;32m    208\u001b[0m vec1 \u001b[38;5;241m=\u001b[39m np\u001b[38;5;241m.\u001b[39mstack((y1, long_x1))\u001b[38;5;241m.\u001b[39mT\n\u001b[1;32m    209\u001b[0m vec2 \u001b[38;5;241m=\u001b[39m np\u001b[38;5;241m.\u001b[39mstack((y2, long_x2))\u001b[38;5;241m.\u001b[39mT\n\u001b[0;32m--> 210\u001b[0m deg_dists \u001b[38;5;241m=\u001b[39m euclidean_distances(vec1, vec2)\n\u001b[1;32m    211\u001b[0m rad_dists \u001b[38;5;241m=\u001b[39m np\u001b[38;5;241m.\u001b[39mradians(deg_dists)\n\u001b[1;32m    212\u001b[0m \u001b[38;5;66;03m# 4: Convert angular offsets to kpc distances using D, and the small-angle approximation.\u001b[39;00m\n",
      "File \u001b[0;32m~/opt/anaconda3/lib/python3.12/site-packages/sklearn/utils/_param_validation.py:213\u001b[0m, in \u001b[0;36mvalidate_params.<locals>.decorator.<locals>.wrapper\u001b[0;34m(*args, **kwargs)\u001b[0m\n\u001b[1;32m    207\u001b[0m \u001b[38;5;28;01mtry\u001b[39;00m:\n\u001b[1;32m    208\u001b[0m     \u001b[38;5;28;01mwith\u001b[39;00m config_context(\n\u001b[1;32m    209\u001b[0m         skip_parameter_validation\u001b[38;5;241m=\u001b[39m(\n\u001b[1;32m    210\u001b[0m             prefer_skip_nested_validation \u001b[38;5;129;01mor\u001b[39;00m global_skip_validation\n\u001b[1;32m    211\u001b[0m         )\n\u001b[1;32m    212\u001b[0m     ):\n\u001b[0;32m--> 213\u001b[0m         \u001b[38;5;28;01mreturn\u001b[39;00m func(\u001b[38;5;241m*\u001b[39margs, \u001b[38;5;241m*\u001b[39m\u001b[38;5;241m*\u001b[39mkwargs)\n\u001b[1;32m    214\u001b[0m \u001b[38;5;28;01mexcept\u001b[39;00m InvalidParameterError \u001b[38;5;28;01mas\u001b[39;00m e:\n\u001b[1;32m    215\u001b[0m     \u001b[38;5;66;03m# When the function is just a wrapper around an estimator, we allow\u001b[39;00m\n\u001b[1;32m    216\u001b[0m     \u001b[38;5;66;03m# the function to delegate validation to the estimator, but we replace\u001b[39;00m\n\u001b[1;32m    217\u001b[0m     \u001b[38;5;66;03m# the name of the estimator by the name of the function in the error\u001b[39;00m\n\u001b[1;32m    218\u001b[0m     \u001b[38;5;66;03m# message to avoid confusion.\u001b[39;00m\n\u001b[1;32m    219\u001b[0m     msg \u001b[38;5;241m=\u001b[39m re\u001b[38;5;241m.\u001b[39msub(\n\u001b[1;32m    220\u001b[0m         \u001b[38;5;124mr\u001b[39m\u001b[38;5;124m\"\u001b[39m\u001b[38;5;124mparameter of \u001b[39m\u001b[38;5;124m\\\u001b[39m\u001b[38;5;124mw+ must be\u001b[39m\u001b[38;5;124m\"\u001b[39m,\n\u001b[1;32m    221\u001b[0m         \u001b[38;5;124mf\u001b[39m\u001b[38;5;124m\"\u001b[39m\u001b[38;5;124mparameter of \u001b[39m\u001b[38;5;132;01m{\u001b[39;00mfunc\u001b[38;5;241m.\u001b[39m\u001b[38;5;18m__qualname__\u001b[39m\u001b[38;5;132;01m}\u001b[39;00m\u001b[38;5;124m must be\u001b[39m\u001b[38;5;124m\"\u001b[39m,\n\u001b[1;32m    222\u001b[0m         \u001b[38;5;28mstr\u001b[39m(e),\n\u001b[1;32m    223\u001b[0m     )\n",
      "File \u001b[0;32m~/opt/anaconda3/lib/python3.12/site-packages/sklearn/metrics/pairwise.py:344\u001b[0m, in \u001b[0;36meuclidean_distances\u001b[0;34m(X, Y, Y_norm_squared, squared, X_norm_squared)\u001b[0m\n\u001b[1;32m    258\u001b[0m \u001b[38;5;129m@validate_params\u001b[39m(\n\u001b[1;32m    259\u001b[0m     {\n\u001b[1;32m    260\u001b[0m         \u001b[38;5;124m\"\u001b[39m\u001b[38;5;124mX\u001b[39m\u001b[38;5;124m\"\u001b[39m: [\u001b[38;5;124m\"\u001b[39m\u001b[38;5;124marray-like\u001b[39m\u001b[38;5;124m\"\u001b[39m, \u001b[38;5;124m\"\u001b[39m\u001b[38;5;124msparse matrix\u001b[39m\u001b[38;5;124m\"\u001b[39m],\n\u001b[0;32m   (...)\u001b[0m\n\u001b[1;32m    269\u001b[0m     X, Y\u001b[38;5;241m=\u001b[39m\u001b[38;5;28;01mNone\u001b[39;00m, \u001b[38;5;241m*\u001b[39m, Y_norm_squared\u001b[38;5;241m=\u001b[39m\u001b[38;5;28;01mNone\u001b[39;00m, squared\u001b[38;5;241m=\u001b[39m\u001b[38;5;28;01mFalse\u001b[39;00m, X_norm_squared\u001b[38;5;241m=\u001b[39m\u001b[38;5;28;01mNone\u001b[39;00m\n\u001b[1;32m    270\u001b[0m ):\n\u001b[1;32m    271\u001b[0m \u001b[38;5;250m    \u001b[39m\u001b[38;5;124;03m\"\"\"\u001b[39;00m\n\u001b[1;32m    272\u001b[0m \u001b[38;5;124;03m    Compute the distance matrix between each pair from a vector array X and Y.\u001b[39;00m\n\u001b[1;32m    273\u001b[0m \n\u001b[0;32m   (...)\u001b[0m\n\u001b[1;32m    342\u001b[0m \u001b[38;5;124;03m           [1.41421356]])\u001b[39;00m\n\u001b[1;32m    343\u001b[0m \u001b[38;5;124;03m    \"\"\"\u001b[39;00m\n\u001b[0;32m--> 344\u001b[0m     X, Y \u001b[38;5;241m=\u001b[39m check_pairwise_arrays(X, Y)\n\u001b[1;32m    346\u001b[0m     \u001b[38;5;28;01mif\u001b[39;00m X_norm_squared \u001b[38;5;129;01mis\u001b[39;00m \u001b[38;5;129;01mnot\u001b[39;00m \u001b[38;5;28;01mNone\u001b[39;00m:\n\u001b[1;32m    347\u001b[0m         X_norm_squared \u001b[38;5;241m=\u001b[39m check_array(X_norm_squared, ensure_2d\u001b[38;5;241m=\u001b[39m\u001b[38;5;28;01mFalse\u001b[39;00m)\n",
      "File \u001b[0;32m~/opt/anaconda3/lib/python3.12/site-packages/sklearn/metrics/pairwise.py:185\u001b[0m, in \u001b[0;36mcheck_pairwise_arrays\u001b[0;34m(X, Y, precomputed, dtype, accept_sparse, force_all_finite, ensure_2d, copy)\u001b[0m\n\u001b[1;32m    175\u001b[0m     X \u001b[38;5;241m=\u001b[39m Y \u001b[38;5;241m=\u001b[39m check_array(\n\u001b[1;32m    176\u001b[0m         X,\n\u001b[1;32m    177\u001b[0m         accept_sparse\u001b[38;5;241m=\u001b[39maccept_sparse,\n\u001b[0;32m   (...)\u001b[0m\n\u001b[1;32m    182\u001b[0m         ensure_2d\u001b[38;5;241m=\u001b[39mensure_2d,\n\u001b[1;32m    183\u001b[0m     )\n\u001b[1;32m    184\u001b[0m \u001b[38;5;28;01melse\u001b[39;00m:\n\u001b[0;32m--> 185\u001b[0m     X \u001b[38;5;241m=\u001b[39m check_array(\n\u001b[1;32m    186\u001b[0m         X,\n\u001b[1;32m    187\u001b[0m         accept_sparse\u001b[38;5;241m=\u001b[39maccept_sparse,\n\u001b[1;32m    188\u001b[0m         dtype\u001b[38;5;241m=\u001b[39mdtype,\n\u001b[1;32m    189\u001b[0m         copy\u001b[38;5;241m=\u001b[39mcopy,\n\u001b[1;32m    190\u001b[0m         force_all_finite\u001b[38;5;241m=\u001b[39mforce_all_finite,\n\u001b[1;32m    191\u001b[0m         estimator\u001b[38;5;241m=\u001b[39mestimator,\n\u001b[1;32m    192\u001b[0m         ensure_2d\u001b[38;5;241m=\u001b[39mensure_2d,\n\u001b[1;32m    193\u001b[0m     )\n\u001b[1;32m    194\u001b[0m     Y \u001b[38;5;241m=\u001b[39m check_array(\n\u001b[1;32m    195\u001b[0m         Y,\n\u001b[1;32m    196\u001b[0m         accept_sparse\u001b[38;5;241m=\u001b[39maccept_sparse,\n\u001b[0;32m   (...)\u001b[0m\n\u001b[1;32m    201\u001b[0m         ensure_2d\u001b[38;5;241m=\u001b[39mensure_2d,\n\u001b[1;32m    202\u001b[0m     )\n\u001b[1;32m    204\u001b[0m \u001b[38;5;28;01mif\u001b[39;00m precomputed:\n",
      "File \u001b[0;32m~/opt/anaconda3/lib/python3.12/site-packages/sklearn/utils/validation.py:1058\u001b[0m, in \u001b[0;36mcheck_array\u001b[0;34m(array, accept_sparse, accept_large_sparse, dtype, order, copy, force_writeable, force_all_finite, ensure_2d, allow_nd, ensure_min_samples, ensure_min_features, estimator, input_name)\u001b[0m\n\u001b[1;32m   1053\u001b[0m     \u001b[38;5;28;01mraise\u001b[39;00m \u001b[38;5;167;01mValueError\u001b[39;00m(\n\u001b[1;32m   1054\u001b[0m         \u001b[38;5;124m\"\u001b[39m\u001b[38;5;124mdtype=\u001b[39m\u001b[38;5;124m'\u001b[39m\u001b[38;5;124mnumeric\u001b[39m\u001b[38;5;124m'\u001b[39m\u001b[38;5;124m is not compatible with arrays of bytes/strings.\u001b[39m\u001b[38;5;124m\"\u001b[39m\n\u001b[1;32m   1055\u001b[0m         \u001b[38;5;124m\"\u001b[39m\u001b[38;5;124mConvert your data to numeric values explicitly instead.\u001b[39m\u001b[38;5;124m\"\u001b[39m\n\u001b[1;32m   1056\u001b[0m     )\n\u001b[1;32m   1057\u001b[0m \u001b[38;5;28;01mif\u001b[39;00m \u001b[38;5;129;01mnot\u001b[39;00m allow_nd \u001b[38;5;129;01mand\u001b[39;00m array\u001b[38;5;241m.\u001b[39mndim \u001b[38;5;241m>\u001b[39m\u001b[38;5;241m=\u001b[39m \u001b[38;5;241m3\u001b[39m:\n\u001b[0;32m-> 1058\u001b[0m     \u001b[38;5;28;01mraise\u001b[39;00m \u001b[38;5;167;01mValueError\u001b[39;00m(\n\u001b[1;32m   1059\u001b[0m         \u001b[38;5;124m\"\u001b[39m\u001b[38;5;124mFound array with dim \u001b[39m\u001b[38;5;132;01m%d\u001b[39;00m\u001b[38;5;124m. \u001b[39m\u001b[38;5;132;01m%s\u001b[39;00m\u001b[38;5;124m expected <= 2.\u001b[39m\u001b[38;5;124m\"\u001b[39m\n\u001b[1;32m   1060\u001b[0m         \u001b[38;5;241m%\u001b[39m (array\u001b[38;5;241m.\u001b[39mndim, estimator_name)\n\u001b[1;32m   1061\u001b[0m     )\n\u001b[1;32m   1063\u001b[0m \u001b[38;5;28;01mif\u001b[39;00m force_all_finite:\n\u001b[1;32m   1064\u001b[0m     _assert_all_finite(\n\u001b[1;32m   1065\u001b[0m         array,\n\u001b[1;32m   1066\u001b[0m         input_name\u001b[38;5;241m=\u001b[39minput_name,\n\u001b[1;32m   1067\u001b[0m         estimator_name\u001b[38;5;241m=\u001b[39mestimator_name,\n\u001b[1;32m   1068\u001b[0m         allow_nan\u001b[38;5;241m=\u001b[39mforce_all_finite \u001b[38;5;241m==\u001b[39m \u001b[38;5;124m\"\u001b[39m\u001b[38;5;124mallow-nan\u001b[39m\u001b[38;5;124m\"\u001b[39m,\n\u001b[1;32m   1069\u001b[0m     )\n",
      "\u001b[0;31mValueError\u001b[0m: Found array with dim 3. check_pairwise_arrays expected <= 2."
     ]
    }
   ],
   "source": [
    "# Subtract off radial trend\n",
    "resid_Z_grid = gg.generate_residual_Z_grid(Z_data[0].data, Z_data[1].data, Z_data[0].header, metadata)"
   ]
  },
  {
   "cell_type": "code",
   "execution_count": 11,
   "id": "d33b36f6-e9ec-4505-bc0a-f060351a927c",
   "metadata": {},
   "outputs": [
    {
     "data": {
      "text/plain": [
       "85484"
      ]
     },
     "execution_count": 11,
     "metadata": {},
     "output_type": "execute_result"
    }
   ],
   "source": []
  },
  {
   "cell_type": "code",
   "execution_count": 4,
   "id": "84d9b462-a200-4bab-b6e4-6ec961db4a43",
   "metadata": {},
   "outputs": [
    {
     "ename": "AttributeError",
     "evalue": "The number of `values` elements must match the length of each `sample` dimension.",
     "output_type": "error",
     "traceback": [
      "\u001b[0;31m---------------------------------------------------------------------------\u001b[0m",
      "\u001b[0;31mAttributeError\u001b[0m                            Traceback (most recent call last)",
      "Cell \u001b[0;32mIn[4], line 2\u001b[0m\n\u001b[1;32m      1\u001b[0m \u001b[38;5;66;03m# Generate a semivariogram (with 50 pc bins, keeping all data for now)\u001b[39;00m\n\u001b[0;32m----> 2\u001b[0m semivariogram, separations \u001b[38;5;241m=\u001b[39m gg\u001b[38;5;241m.\u001b[39mfast_semivariogram(Z_data[\u001b[38;5;241m0\u001b[39m]\u001b[38;5;241m.\u001b[39mdata, Z_data[\u001b[38;5;241m0\u001b[39m]\u001b[38;5;241m.\u001b[39mheader, meta\u001b[38;5;241m=\u001b[39mmetadata, bin_size\u001b[38;5;241m=\u001b[39m\u001b[38;5;241m50\u001b[39m)\n",
      "File \u001b[0;32m~/opt/anaconda3/lib/python3.12/site-packages/geogals/geogals.py:327\u001b[0m, in \u001b[0;36mfast_semivariogram\u001b[0;34m(Z_grid, header, meta, bin_size, f_to_keep)\u001b[0m\n\u001b[1;32m    324\u001b[0m d_lim \u001b[38;5;241m=\u001b[39m np\u001b[38;5;241m.\u001b[39mmax(r) \u001b[38;5;241m*\u001b[39m f_to_keep\n\u001b[1;32m    326\u001b[0m \u001b[38;5;66;03m# bin by r:\u001b[39;00m\n\u001b[0;32m--> 327\u001b[0m svg \u001b[38;5;241m=\u001b[39m scipy\u001b[38;5;241m.\u001b[39mstats\u001b[38;5;241m.\u001b[39mbinned_statistic(r\u001b[38;5;241m.\u001b[39mflatten(), gamma\u001b[38;5;241m.\u001b[39mflatten(), statistic \u001b[38;5;241m=\u001b[39mnp\u001b[38;5;241m.\u001b[39mnanmean, bins\u001b[38;5;241m=\u001b[39m\u001b[38;5;28mint\u001b[39m(d_lim\u001b[38;5;241m/\u001b[39mbin_size), \u001b[38;5;28mrange\u001b[39m\u001b[38;5;241m=\u001b[39m(\u001b[38;5;241m0\u001b[39m, d_lim))\n\u001b[1;32m    329\u001b[0m \u001b[38;5;66;03m# find bin centres:\u001b[39;00m\n\u001b[1;32m    330\u001b[0m bc \u001b[38;5;241m=\u001b[39m svg\u001b[38;5;241m.\u001b[39mbin_edges\n",
      "File \u001b[0;32m~/opt/anaconda3/lib/python3.12/site-packages/scipy/stats/_binned_statistic.py:184\u001b[0m, in \u001b[0;36mbinned_statistic\u001b[0;34m(x, values, statistic, bins, range)\u001b[0m\n\u001b[1;32m    181\u001b[0m     \u001b[38;5;28;01mif\u001b[39;00m \u001b[38;5;28mlen\u001b[39m(\u001b[38;5;28mrange\u001b[39m) \u001b[38;5;241m==\u001b[39m \u001b[38;5;241m2\u001b[39m:\n\u001b[1;32m    182\u001b[0m         \u001b[38;5;28mrange\u001b[39m \u001b[38;5;241m=\u001b[39m [\u001b[38;5;28mrange\u001b[39m]\n\u001b[0;32m--> 184\u001b[0m medians, edges, binnumbers \u001b[38;5;241m=\u001b[39m binned_statistic_dd(\n\u001b[1;32m    185\u001b[0m     [x], values, statistic, bins, \u001b[38;5;28mrange\u001b[39m)\n\u001b[1;32m    187\u001b[0m \u001b[38;5;28;01mreturn\u001b[39;00m BinnedStatisticResult(medians, edges[\u001b[38;5;241m0\u001b[39m], binnumbers)\n",
      "File \u001b[0;32m~/opt/anaconda3/lib/python3.12/site-packages/scipy/stats/_binned_statistic.py:571\u001b[0m, in \u001b[0;36mbinned_statistic_dd\u001b[0;34m(sample, values, statistic, bins, range, expand_binnumbers, binned_statistic_result)\u001b[0m\n\u001b[1;32m    569\u001b[0m \u001b[38;5;66;03m# Make sure `values` match `sample`\u001b[39;00m\n\u001b[1;32m    570\u001b[0m \u001b[38;5;28;01mif\u001b[39;00m statistic \u001b[38;5;241m!=\u001b[39m \u001b[38;5;124m'\u001b[39m\u001b[38;5;124mcount\u001b[39m\u001b[38;5;124m'\u001b[39m \u001b[38;5;129;01mand\u001b[39;00m Vlen \u001b[38;5;241m!=\u001b[39m Dlen:\n\u001b[0;32m--> 571\u001b[0m     \u001b[38;5;28;01mraise\u001b[39;00m \u001b[38;5;167;01mAttributeError\u001b[39;00m(\u001b[38;5;124m'\u001b[39m\u001b[38;5;124mThe number of `values` elements must match the \u001b[39m\u001b[38;5;124m'\u001b[39m\n\u001b[1;32m    572\u001b[0m                          \u001b[38;5;124m'\u001b[39m\u001b[38;5;124mlength of each `sample` dimension.\u001b[39m\u001b[38;5;124m'\u001b[39m)\n\u001b[1;32m    574\u001b[0m \u001b[38;5;28;01mtry\u001b[39;00m:\n\u001b[1;32m    575\u001b[0m     M \u001b[38;5;241m=\u001b[39m \u001b[38;5;28mlen\u001b[39m(bins)\n",
      "\u001b[0;31mAttributeError\u001b[0m: The number of `values` elements must match the length of each `sample` dimension."
     ]
    }
   ],
   "source": [
    "# Generate a semivariogram (with 100 pc bins, keeping all data points separated by 5 kpc or less)\n",
    "semivariogram, separations, _ = gg.fast_semivariogram(resid_Z_grid, Z_data[0].header, meta=metadata, bin_size=0.1, d_lim=5.0)"
   ]
  },
  {
   "cell_type": "code",
   "execution_count": 4,
   "id": "fe1a4906-d18b-48ac-84a8-cf0862e50c63",
   "metadata": {},
   "outputs": [],
   "source": [
    "# Plot it\n",
    "import matplotlib.pyplot as plt\n",
    "\n",
    "plt.plot(separations, semivariogram)"
   ]
  },
  {
   "cell_type": "markdown",
   "id": "140e7e2a-4939-44b8-944d-786268944fe3",
   "metadata": {},
   "source": [
    "Looking at this plot, we can gather a wealth of information. Firstly, we see that the variance between data points increases as a function of their separation. This makes sense, because regions of the data that are closer to each other ought to be more correlated than pairs of data points that are farther apart. By examining the height of this graph at the smallest separation bin, we can estimate how much of the variance in our data comes from random effects with no spatial correlation, such as shot noise. This semivariogram flattens out at a distance of ~100 parsecs - this is the size of the largest fluctuations in our field. Beyond this threshold, measurements become unreliable, as there are fewer pairs of data points at greater separations.\n",
    "\n",
    "In short, a semivariogram reveals that much of the variance that we see in this data comes from spatially correlated sources. In the next Tutorial, we show how we can fit a model to our data that takes into account these spatially correlated fluctuations."
   ]
  },
  {
   "cell_type": "code",
   "execution_count": null,
   "id": "6c5c6aaa-e5e0-4cf0-90c7-7a7cf8d3f315",
   "metadata": {},
   "outputs": [],
   "source": []
  }
 ],
 "metadata": {
  "kernelspec": {
   "display_name": "Python 3 (ipykernel)",
   "language": "python",
   "name": "python3"
  },
  "language_info": {
   "codemirror_mode": {
    "name": "ipython",
    "version": 3
   },
   "file_extension": ".py",
   "mimetype": "text/x-python",
   "name": "python",
   "nbconvert_exporter": "python",
   "pygments_lexer": "ipython3",
   "version": "3.12.7"
  }
 },
 "nbformat": 4,
 "nbformat_minor": 5
}
