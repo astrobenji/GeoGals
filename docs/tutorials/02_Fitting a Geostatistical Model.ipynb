{
 "cells": [
  {
   "cell_type": "markdown",
   "id": "1a8f3777-ca63-42ea-b559-d721f3cbbf7a",
   "metadata": {},
   "source": [
    "# Tutorial 2: Fitting a geostatistical model\n",
    "\n"
   ]
  },
  {
   "cell_type": "code",
   "execution_count": null,
   "id": "318efaa0-6baf-4702-b8b3-91af7d4cf285",
   "metadata": {},
   "outputs": [],
   "source": []
  }
 ],
 "metadata": {
  "kernelspec": {
   "display_name": "Python 3 (ipykernel)",
   "language": "python",
   "name": "python3"
  },
  "language_info": {
   "codemirror_mode": {
    "name": "ipython",
    "version": 3
   },
   "file_extension": ".py",
   "mimetype": "text/x-python",
   "name": "python",
   "nbconvert_exporter": "python",
   "pygments_lexer": "ipython3",
   "version": "3.12.7"
  }
 },
 "nbformat": 4,
 "nbformat_minor": 5
}
