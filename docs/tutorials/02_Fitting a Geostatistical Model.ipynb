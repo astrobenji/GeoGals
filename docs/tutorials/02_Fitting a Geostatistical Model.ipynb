{
 "cells": [
  {
   "cell_type": "markdown",
   "id": "1a8f3777-ca63-42ea-b559-d721f3cbbf7a",
   "metadata": {},
   "source": [
    "# Chapter 2: Fitting a geostatistical model\n",
    "\n",
    "In the last Tutorial, we showed you how GeoGals can be used to compute a *semivariogram* -- a fast data visualisation tool that reveals the presence of spatial structure in a stochastic, spatially-correlated data field. Examination of a semivariogram reveals roughly the spatial extent of these correlations and the amount of variation that they contain. However, this is only a summary statistic. To properly estimate these quantities with their uncertainties, we need to fit a geostatistical model to the data. In this Tutorial, we show how the Python package *emcee* can be leveraged to do this."
   ]
  },
  {
   "cell_type": "code",
   "execution_count": 1,
   "id": "318efaa0-6baf-4702-b8b3-91af7d4cf285",
   "metadata": {},
   "outputs": [],
   "source": [
    "import geogals as gg"
   ]
  },
  {
   "cell_type": "code",
   "execution_count": null,
   "id": "e00e54d0-9239-44e8-a3d9-d0d02cb4d4a9",
   "metadata": {},
   "outputs": [],
   "source": []
  }
 ],
 "metadata": {
  "kernelspec": {
   "display_name": "Python 3 (ipykernel)",
   "language": "python",
   "name": "python3"
  },
  "language_info": {
   "codemirror_mode": {
    "name": "ipython",
    "version": 3
   },
   "file_extension": ".py",
   "mimetype": "text/x-python",
   "name": "python",
   "nbconvert_exporter": "python",
   "pygments_lexer": "ipython3",
   "version": "3.12.7"
  }
 },
 "nbformat": 4,
 "nbformat_minor": 5
}
