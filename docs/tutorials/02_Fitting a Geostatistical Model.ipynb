{
 "cells": [
  {
   "cell_type": "code",
   "execution_count": null,
   "id": "a76308b4-2e4c-43be-9a7b-4bc40c0be737",
   "metadata": {},
   "outputs": [],
   "source": []
  }
 ],
 "metadata": {
  "kernelspec": {
   "display_name": "",
   "name": ""
  },
  "language_info": {
   "name": ""
  }
 },
 "nbformat": 4,
 "nbformat_minor": 5
}
