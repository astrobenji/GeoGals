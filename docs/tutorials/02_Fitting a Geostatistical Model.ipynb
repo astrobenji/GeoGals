{
 "cells": [
  {
   "cell_type": "markdown",
   "id": "1a8f3777-ca63-42ea-b559-d721f3cbbf7a",
   "metadata": {},
   "source": [
    "# Chapter 2: Fitting a geostatistical model\n",
    "\n",
    "In the last Tutorial, we showed you how GeoGals can be used to compute a *semivariogram* -- a fast data visualisation tool that reveals the presence of spatial structure in a stochastic, spatially-correlated data field. Examination of a semivariogram reveals roughly the spatial extent of these correlations and the amount of variation that they contain. However, this is only a summary statistic. To properly estimate these quantities with their uncertainties, we need to fit a geostatistical model to the data. In this Tutorial, we show how the Python package *emcee* can be leveraged to do this."
   ]
  },
  {
   "cell_type": "code",
   "execution_count": 2,
   "id": "318efaa0-6baf-4702-b8b3-91af7d4cf285",
   "metadata": {},
   "outputs": [],
   "source": [
    "import geogals as gg\n",
    "from astropy.io import fits"
   ]
  },
  {
   "cell_type": "markdown",
   "id": "0842f49e-616f-4297-941d-f2daece3c4d7",
   "metadata": {},
   "source": [
    "Next, we load in our example data field as before, as well as its metadata:"
   ]
  },
  {
   "cell_type": "code",
   "execution_count": 4,
   "id": "ed552f6f-8d70-4944-8a30-ea7d69850ae7",
   "metadata": {},
   "outputs": [],
   "source": [
    "data_path = '../../data/'\n",
    "Z_data    = fits.open(data_path + 'NGC1385_metals.fits')\n",
    "\n",
    "metadata = {\n",
    "    'RA':54.3680,\n",
    "    'DEC':-24.5012,\n",
    "    'PA': 181.3,\n",
    "    'i': 44.0,\n",
    "    'D': 22.7\n",
    "}"
   ]
  },
  {
   "cell_type": "markdown",
   "id": "3d78f520-c8bb-4be4-8819-0447ccb7f3d4",
   "metadata": {},
   "source": [
    "For this application, we strip the metallicity data of all of its nans, and cast the resulting data structure into a dict, containing the positions, metallicities, and uncertainties in the metallicities for all measured data points."
   ]
  },
  {
   "cell_type": "code",
   "execution_count": 5,
   "id": "e253304c-1256-4a6d-a258-53c74b538b04",
   "metadata": {},
   "outputs": [],
   "source": [
    "Z_dict = gg.to_data_dict(Z_data[0].header, Z_data[0].data, Z_data[1].data)"
   ]
  },
  {
   "cell_type": "code",
   "execution_count": 6,
   "id": "c0195d5e-1d75-4ae8-9efd-c1ae2e256cd9",
   "metadata": {},
   "outputs": [
    {
     "data": {
      "text/plain": [
       "{'RA': array([54.36935682, 54.3692347 , 54.36917363, ..., 54.37033627,\n",
       "        54.37045836, 54.37039731]),\n",
       " 'DEC': array([-24.51879003, -24.51879003, -24.51879002, ..., -24.48262343,\n",
       "        -24.48256788, -24.48256788]),\n",
       " 'Z': array([8.62102331, 8.59104387, 8.62565897, ..., 8.7496841 , 8.80836588,\n",
       "        8.77577037], dtype='>f8'),\n",
       " 'e_Z': array([0.02886226, 0.01797445, 0.0181069 , ..., 0.02723098, 0.03908537,\n",
       "        0.02337907], dtype='>f8')}"
      ]
     },
     "execution_count": 6,
     "metadata": {},
     "output_type": "execute_result"
    }
   ],
   "source": [
    "Z_dict"
   ]
  },
  {
   "cell_type": "markdown",
   "id": "5c86246d-97bc-4d8a-bfb0-ec1fe3faf72c",
   "metadata": {},
   "source": [
    "This is a lot of data -- over 85,000 pixels remain! To fit a geostatistical model to all of this data would require several days on a supercomputer and use up over 200 GB of RAM. Because you might not have access to a supercomputer (and even if you do, you probably don't want to wait several days to learn how to use this package), we will take a *subsample* of 500 data points from our data. This reduces the complexity of this task by several orders of magnitude, but is still sufficient to get a good estimate of the geostatistical model parameters [(Metha et al. 2024)](https://ui.adsabs.harvard.edu/abs/2024MNRAS.529..104M/abstract)."
   ]
  },
  {
   "cell_type": "code",
   "execution_count": null,
   "id": "8822f332-56e9-4223-9d33-7a908339a672",
   "metadata": {},
   "outputs": [],
   "source": [
    "Z_dict = gg.get_subsample(Z_dict, n_in_subsample=500)"
   ]
  }
 ],
 "metadata": {
  "kernelspec": {
   "display_name": "Python 3 (ipykernel)",
   "language": "python",
   "name": "python3"
  },
  "language_info": {
   "codemirror_mode": {
    "name": "ipython",
    "version": 3
   },
   "file_extension": ".py",
   "mimetype": "text/x-python",
   "name": "python",
   "nbconvert_exporter": "python",
   "pygments_lexer": "ipython3",
   "version": "3.12.7"
  }
 },
 "nbformat": 4,
 "nbformat_minor": 5
}
