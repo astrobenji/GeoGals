{
 "cells": [
  {
   "cell_type": "code",
   "execution_count": null,
   "id": "bcd432ec-b3bc-4350-8296-5ee396054886",
   "metadata": {},
   "outputs": [],
   "source": []
  }
 ],
 "metadata": {
  "kernelspec": {
   "display_name": "",
   "name": ""
  },
  "language_info": {
   "name": ""
  }
 },
 "nbformat": 4,
 "nbformat_minor": 5
}
