{
 "cells": [
  {
   "cell_type": "markdown",
   "id": "0bee09cb-5854-4b99-9f1a-74bf42cba255",
   "metadata": {},
   "source": [
    "# Chapter 3: Kriging (estimation and prediction)\n",
    "\n",
    "In the previous Tutorial, we used the GeoGals package to fit a geostatistical (Gaussian Process) model to our sample galaxy. In this Tutorial, we show how we can use this model to predict the values of the metallicity of our galaxy at a location where no metallicity has been measured. "
   ]
  },
  {
   "cell_type": "code",
   "execution_count": 1,
   "id": "6b82aff9-c969-44ce-9bd4-d549df38ba8d",
   "metadata": {},
   "outputs": [],
   "source": [
    "import geogals as gg\n",
    "import numpy as np\n",
    "import matplotlib.pyplot as plt"
   ]
  },
  {
   "cell_type": "code",
   "execution_count": null,
   "id": "b89ccbaf-fffe-49b7-b969-2e0ae350c893",
   "metadata": {},
   "outputs": [],
   "source": [
    "data_path = '../../data/' # You may need to change this on your own computer.\n",
    "Z_data    = fits.open(data_path + 'NGC1385_metals.fits')"
   ]
  }
 ],
 "metadata": {
  "kernelspec": {
   "display_name": "Python 3 (ipykernel)",
   "language": "python",
   "name": "python3"
  },
  "language_info": {
   "codemirror_mode": {
    "name": "ipython",
    "version": 3
   },
   "file_extension": ".py",
   "mimetype": "text/x-python",
   "name": "python",
   "nbconvert_exporter": "python",
   "pygments_lexer": "ipython3",
   "version": "3.12.7"
  }
 },
 "nbformat": 4,
 "nbformat_minor": 5
}
